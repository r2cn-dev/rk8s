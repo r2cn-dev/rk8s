{
 "cells": [
  {
   "cell_type": "code",
   "execution_count": 1,
   "id": "1cca0e05-527c-4a7c-8b9b-bc4d2c5e19c3",
   "metadata": {},
   "outputs": [],
   "source": [
    "from sage.all import *\n",
    "import struct\n",
    "\n",
    "DR = RealField(53)\n",
    "\n",
    "DD = RealField(190)\n",
    "\n",
    "def double_to_hex(f):\n",
    "    packed = struct.pack('>d', float(f))\n",
    "    return '0x' + packed.hex()\n",
    "\n",
    "def split_double_double(x):\n",
    "    # Split RR value x into hi + lo (double-double)\n",
    "    x = RealField(190)(x).exact_rational()\n",
    "    x_hi = DR(x)  # convert to f64\n",
    "    x_lo = x - DD(x_hi)\n",
    "    return (x_lo,x_hi)\n",
    "\n",
    "def split_triple_double(x):\n",
    "    # Split RR value x into hi + lo (double-double)\n",
    "    x_hi = DR(x)  # convert to f64\n",
    "    x_mid = DR(x - DD(x_hi))\n",
    "    x_lo = x - DD(x_hi) - DD(x_mid)\n",
    "    return (x_lo, x_mid, x_hi)\n",
    "\n",
    "def print_double_double(mark, x):\n",
    "    splat = split_double_double(x)\n",
    "    print(f\"{mark}({double_to_hex(splat[0])}, {double_to_hex(splat[1])}),\")\n",
    "\n",
    "def print_triple_double(mark, x):\n",
    "    splat = split_triple_double(x)\n",
    "    print(f\"{mark}({double_to_hex(splat[0])}, {double_to_hex(splat[1])}, {double_to_hex(splat[2])}),\")"
   ]
  },
  {
   "cell_type": "code",
   "execution_count": 5,
   "id": "6b6509be-9f4a-4f8c-a558-0729d1c38b96",
   "metadata": {},
   "outputs": [
    {
     "name": "stdout",
     "output_type": "stream",
     "text": [
      "f64::from_bits(0x3ff0000000000000 ),\n",
      "f64::from_bits(0xbfc5555555555555 ),\n",
      "f64::from_bits(0x3fb3333333333333 ),\n",
      "f64::from_bits(0xbfa6db6db6db6d8e ),\n",
      "f64::from_bits(0x3f9f1c71c71beb52 ),\n",
      "f64::from_bits(0xbf96e8ba2e0dde02 ),\n",
      "f64::from_bits(0x3f91c4ec071a2f97 ),\n",
      "f64::from_bits(0xbf8c9966fc6b6fda ),\n",
      "f64::from_bits(0x3f879da45ad06ce8 ),\n",
      "f64::from_bits(0xbf82b3657f620c14 ),\n"
     ]
    }
   ],
   "source": [
    "values = [ \n",
    "'0.9999999999999999999999999871153711897959786342334539533739446500583',\n",
    "'-0.16666666666666666666650151963244015693830520367308525895073335',\n",
    "'7.499999999999999965072182930715258102356584055688825439431e-2',\n",
    "'-4.464285714285685629109078238999480916121795421043816061e-2',\n",
    "'3.0381944444325021547153527195209138063574970156575893e-2',\n",
    "'-2.2372159062312496451563549949821404290960460787207e-2',\n",
    "'1.73527602515118568672725154054009807136071058366385e-2',\n",
    "'-1.39644666464206371623043262968856893061067532005188e-2',\n",
    "'1.15311470236094261828255272517320178864889243045237e-2',\n",
    "'-9.1312341212468692845375914777748062634696032010298e-3',\n",
    " ]\n",
    "\n",
    "R = RealField(150)\n",
    "\n",
    "# Function to convert 64-bit hex to float\n",
    "def hex_to_float(h):\n",
    "    return struct.unpack('>d', struct.pack('>Q', h))[0]\n",
    "\n",
    "# Convert each hex value to RealField\n",
    "real_array = [R(h) for h in values]\n",
    "\n",
    "# Show results\n",
    "for r in real_array:\n",
    "    print(\"f64::from_bits(\" + double_to_hex(r), \"),\")"
   ]
  },
  {
   "cell_type": "code",
   "execution_count": null,
   "id": "e7ced868-f4da-48ad-a351-87a60039db9c",
   "metadata": {},
   "outputs": [],
   "source": []
  }
 ],
 "metadata": {
  "kernelspec": {
   "display_name": "Python 3 (ipykernel)",
   "language": "python",
   "name": "python3"
  },
  "language_info": {
   "codemirror_mode": {
    "name": "ipython",
    "version": 3
   },
   "file_extension": ".py",
   "mimetype": "text/x-python",
   "name": "python",
   "nbconvert_exporter": "python",
   "pygments_lexer": "ipython3",
   "version": "3.12.5"
  }
 },
 "nbformat": 4,
 "nbformat_minor": 5
}
