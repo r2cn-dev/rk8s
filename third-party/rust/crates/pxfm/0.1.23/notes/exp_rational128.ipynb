{
 "cells": [
  {
   "cell_type": "code",
   "execution_count": 7,
   "id": "fc1de6a9-2b51-46ad-adf8-0aed0494718d",
   "metadata": {},
   "outputs": [],
   "source": [
    "from sage.all import *\n",
    "import struct\n",
    "\n",
    "DR = RealField(53)\n",
    "\n",
    "DD = RealField(190)\n",
    "\n",
    "def double_to_hex(f):\n",
    "    packed = struct.pack('>d', float(f))\n",
    "    return '0x' + packed.hex()\n",
    "\n",
    "def split_double_double(x):\n",
    "    # Split RR value x into hi + lo (double-double)\n",
    "    x = RealField(190)(x).exact_rational()\n",
    "    x_hi = DR(x)  # convert to f64\n",
    "    x_lo = x - DD(x_hi)\n",
    "    return (x_lo,x_hi)\n",
    "\n",
    "def split_triple_double(x, prec):\n",
    "    x_hi = RealField(prec)(x) \n",
    "    x_mid = RealField(prec)(x - DD(x_hi))\n",
    "    x_lo = (x - DD(x_hi) - DD(x_mid))\n",
    "    return (x_lo, x_mid, x_hi)\n",
    "\n",
    "def print_double_double(mark, x):\n",
    "    splat = split_double_double(x)\n",
    "    print(f\"{mark}({double_to_hex(splat[0])}, {double_to_hex(splat[1])}),\")\n",
    "\n",
    "def print_triple_double(mark, x, prec):\n",
    "    splat = split_triple_double(x, prec)\n",
    "    print(f\"{mark}({double_to_hex(splat[0])}, {double_to_hex(splat[1])}, {double_to_hex(splat[2])}),\")\n",
    "\n",
    "def format_hex(value):\n",
    "    l = hex(value)[2:]\n",
    "    n = 8\n",
    "    x = [l[i:i + n] for i in range(0, len(l), n)]\n",
    "    return \"0x\" + \"_\".join(x) + \"_u128\"\n",
    "\n",
    "def print_dyadic(value):\n",
    "    (s, m, e) = RealField(128)(value).sign_mantissa_exponent();\n",
    "    print(\"DyadicFloat128 {\")\n",
    "    print(f\"    sign: DyadicSign::{'Pos' if s >= 0 else 'Neg'},\")\n",
    "    print(f\"    exponent: {e},\")\n",
    "    print(f\"    mantissa: {format_hex(m)},\")\n",
    "    print(\"},\")"
   ]
  },
  {
   "cell_type": "code",
   "execution_count": 8,
   "id": "401fec27-c3e0-4007-ac0d-c2fa5d7af03b",
   "metadata": {},
   "outputs": [
    {
     "name": "stdout",
     "output_type": "stream",
     "text": [
      "(0x3b0b0e2633fe0685, 0x3d0718432a000000, 0xbf262e42ff000000),\n"
     ]
    }
   ],
   "source": [
    "k = -RealField(190)(2)**(-12) * RealField(190)(2).log()\n",
    "print_triple_double(\"\", k, 30)"
   ]
  },
  {
   "cell_type": "code",
   "execution_count": null,
   "id": "2a27e2ab-a645-4844-b9bf-d3e8b2a7c28d",
   "metadata": {},
   "outputs": [],
   "source": []
  }
 ],
 "metadata": {
  "kernelspec": {
   "display_name": "Python 3 (ipykernel)",
   "language": "python",
   "name": "python3"
  },
  "language_info": {
   "codemirror_mode": {
    "name": "ipython",
    "version": 3
   },
   "file_extension": ".py",
   "mimetype": "text/x-python",
   "name": "python",
   "nbconvert_exporter": "python",
   "pygments_lexer": "ipython3",
   "version": "3.12.5"
  }
 },
 "nbformat": 4,
 "nbformat_minor": 5
}
