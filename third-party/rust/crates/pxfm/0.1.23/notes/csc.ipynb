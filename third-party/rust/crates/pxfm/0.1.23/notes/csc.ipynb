{
 "cells": [
  {
   "cell_type": "code",
   "execution_count": 11,
   "id": "b45fc0c2-86a5-44f3-8efb-f4233018327f",
   "metadata": {},
   "outputs": [
    {
     "name": "stdout",
     "output_type": "stream",
     "text": [
      "0x3fc5555555555555\n",
      "0x3f93e93e93e93e94\n",
      "0x3f60b2463814bc5f\n",
      "0x3f2b85fca40e852d\n",
      "0x3ef65f59e4611336\n",
      "0x3ec225c0d5895dfa\n"
     ]
    }
   ],
   "source": [
    "from sage.all import *\n",
    "import struct\n",
    "\n",
    "DR = RealField(53)\n",
    "DD = RealField(190)\n",
    "\n",
    "def float_to_hex(f):\n",
    "    packed = struct.pack('>f', float(f))\n",
    "    return '0x' + packed.hex()\n",
    "\n",
    "\n",
    "def double_to_hex(f):\n",
    "    packed = struct.pack('>d', float(f))\n",
    "    return '0x' + packed.hex()\n",
    "\n",
    "print(double_to_hex((DD(1)/DD(6)).exact_rational()))\n",
    "print(double_to_hex((DD(7)/DD(360)).exact_rational()))\n",
    "print(double_to_hex((DD(31)/DD(15210)).exact_rational()))\n",
    "print(double_to_hex((DD(127)/DD('604800')).exact_rational()))\n",
    "print(double_to_hex((DD(73)/DD('3421440')).exact_rational()))\n",
    "print(double_to_hex((DD('1414477')/DD('653837184000')).exact_rational()))\n"
   ]
  },
  {
   "cell_type": "code",
   "execution_count": null,
   "id": "f206a0e4-c159-4ffa-8bb7-27a437b2f494",
   "metadata": {},
   "outputs": [],
   "source": []
  }
 ],
 "metadata": {
  "kernelspec": {
   "display_name": "Python 3 (ipykernel)",
   "language": "python",
   "name": "python3"
  },
  "language_info": {
   "codemirror_mode": {
    "name": "ipython",
    "version": 3
   },
   "file_extension": ".py",
   "mimetype": "text/x-python",
   "name": "python",
   "nbconvert_exporter": "python",
   "pygments_lexer": "ipython3",
   "version": "3.12.5"
  }
 },
 "nbformat": 4,
 "nbformat_minor": 5
}
