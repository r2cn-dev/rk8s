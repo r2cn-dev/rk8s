{
 "cells": [
  {
   "cell_type": "code",
   "execution_count": 1,
   "id": "b0d80cbb-d24c-457e-9b13-29bee52ad44e",
   "metadata": {},
   "outputs": [
    {
     "name": "stdout",
     "output_type": "stream",
     "text": [
      "0.999999999999394\n",
      "Maximum error: (3.9834802123550617e-13, 0.0843520076712255)\n",
      "ULP error: 3.34158539772034e-6\n"
     ]
    }
   ],
   "source": [
    "# Define sinc\n",
    "import struct\n",
    "\n",
    "f(x) = sin(x)/x\n",
    "\n",
    "c1 = struct.unpack('!d', 0x3ff0000000000000.to_bytes(8, 'big'))[0]\n",
    "c2 = struct.unpack('!d', 0xbfc55555550fde98.to_bytes(8, 'big'))[0]\n",
    "c3 = struct.unpack('!d', 0x3f81110f70c67a6b.to_bytes(8, 'big'))[0]\n",
    "c4 = struct.unpack('!d', 0xbf29f67b484037dc.to_bytes(8, 'big'))[0]\n",
    "\n",
    "P(x) = c1 + x^2 * (c2 + x^2 * (c3 + x^2 * (c4)))\n",
    "\n",
    "print(P(-0.000001907348));\n",
    "\n",
    "# Define error\n",
    "err(x) = abs(f(x) - P(x))\n",
    "\n",
    "# Interval to check\n",
    "a, b = 0.0, 0.25   # example interval\n",
    "\n",
    "# Find maximum error\n",
    "max_error = find_local_maximum(err, a, b)\n",
    "\n",
    "# Convert to ULPs (near x=0, sinc ≈ 1)\n",
    "ulp64 = 2.0^-23\n",
    "ulp_error = max_error[0] / ulp64\n",
    "\n",
    "print(\"Maximum error:\", max_error)\n",
    "print(\"ULP error:\", ulp_error)"
   ]
  },
  {
   "cell_type": "code",
   "execution_count": 24,
   "id": "45f022f6-f1a5-40f1-8fd9-a8d31b114284",
   "metadata": {},
   "outputs": [
    {
     "name": "stdout",
     "output_type": "stream",
     "text": [
      "0.958797543531305\n",
      "Maximum error: (3.0182523147459506e-12, 0.4349118306282373)\n",
      "ULP error: 0.0000253189355134964\n"
     ]
    }
   ],
   "source": [
    "# Sinc approximation 0.25 - 0.75\n",
    "import struct\n",
    "\n",
    "f(x) = sin(x)/x\n",
    "\n",
    "c1 = struct.unpack('!d', 0x3ff0000000000000.to_bytes(8, 'big'))[0]\n",
    "c2 = struct.unpack('!d', 0xbfc5555554eec3c3.to_bytes(8, 'big'))[0]\n",
    "c3 = struct.unpack('!d', 0x3f811110a5e9f7da.to_bytes(8, 'big'))[0]\n",
    "c4 = struct.unpack('!d', 0xbf2a0112d52eb13f.to_bytes(8, 'big'))[0]\n",
    "c5 = struct.unpack('!d', 0x3ec6d3ed4b8fccdb.to_bytes(8, 'big'))[0]\n",
    "\n",
    "P(x) = c1 + x^2 * (c2 + x^2 * (c3 + x^2 * (c4 + x^2 * c5)))\n",
    "\n",
    "# Define error\n",
    "err(x) = abs(f(x) - P(x))\n",
    "\n",
    "print(P(0.50032926));\n",
    "\n",
    "# Interval to check\n",
    "a, b = 0.25, 0.75   # example interval\n",
    "\n",
    "# Find maximum error\n",
    "max_error = find_local_maximum(err, a, b)\n",
    "\n",
    "# Convert to ULPs (near x=0, sinc ≈ 1)\n",
    "ulp64 = 2.0^-23\n",
    "ulp_error = max_error[0] / ulp64\n",
    "\n",
    "print(\"Maximum error:\", max_error)\n",
    "print(\"ULP error:\", ulp_error)"
   ]
  },
  {
   "cell_type": "code",
   "execution_count": 21,
   "id": "e2a79007-2429-42b2-bab4-79d2a34c65be",
   "metadata": {},
   "outputs": [
    {
     "name": "stdout",
     "output_type": "stream",
     "text": [
      "Maximum error: (9.444889315091132e-12, 1.3860856166545408)\n",
      "ULP error: 0.0000792294740676880\n"
     ]
    }
   ],
   "source": [
    "# Sinc approximation 0.75 - 1.57\n",
    "import struct\n",
    "\n",
    "f(x) = sin(x)/x\n",
    "\n",
    "c1 = struct.unpack('!d', 0x3ff0000000000000.to_bytes(8, 'big'))[0]\n",
    "c2 = struct.unpack('!d', 0xbfc555555352131a.to_bytes(8, 'big'))[0]\n",
    "c3 = struct.unpack('!d', 0x3f811110917c2d6c.to_bytes(8, 'big'))[0]\n",
    "c4 = struct.unpack('!d', 0xbf2a017122346053.to_bytes(8, 'big'))[0]\n",
    "c5 = struct.unpack('!d', 0x3ec715c10948b2bb.to_bytes(8, 'big'))[0]\n",
    "c6 = struct.unpack('!d', 0xbe598e80b2f564d1.to_bytes(8, 'big'))[0]\n",
    "\n",
    "P(x) = c1 + x^2 * (c2 + x^2 * (c3 + x^2 * (c4 + x^2 * (c5 + x^2 * c6))))\n",
    "\n",
    "# Define error\n",
    "err(x) = abs(f(x) - P(x))\n",
    "\n",
    "# Interval to check\n",
    "a, b = 0.75, 1.57   # example interval\n",
    "\n",
    "# Find maximum error\n",
    "max_error = find_local_maximum(err, a, b)\n",
    "\n",
    "# Convert to ULPs (near x=0, sinc ≈ 1)\n",
    "ulp64 = 2.0^-23\n",
    "ulp_error = max_error[0] / ulp64\n",
    "\n",
    "print(\"Maximum error:\", max_error)\n",
    "print(\"ULP error:\", ulp_error)"
   ]
  },
  {
   "cell_type": "code",
   "execution_count": 26,
   "id": "70cf54d3-a49d-4549-948a-0a0ff9dd9a71",
   "metadata": {},
   "outputs": [
    {
     "name": "stdout",
     "output_type": "stream",
     "text": [
      "Maximum error: (3.063105324940807e-12, 1.8795955862040234)\n",
      "ULP error: 0.0000256951898336411\n"
     ]
    }
   ],
   "source": [
    "# Sinc approximation 1.57 - 2.45\n",
    "import struct\n",
    "\n",
    "f(x) = sin(x)/x\n",
    "\n",
    "c1 = struct.unpack('!d', 0x3ff0000000000000.to_bytes(8, 'big'))[0]\n",
    "c2 = struct.unpack('!d', 0xbfc555554d9b6e68.to_bytes(8, 'big'))[0]\n",
    "c3 = struct.unpack('!d', 0x3f81111055765b6d.to_bytes(8, 'big'))[0]\n",
    "c4 = struct.unpack('!d', 0xbf2a0183046fdadc.to_bytes(8, 'big'))[0]\n",
    "c5 = struct.unpack('!d', 0x3ec71b86e78faed3.to_bytes(8, 'big'))[0]\n",
    "c6 = struct.unpack('!d', 0xbe5aafd4090b9833.to_bytes(8, 'big'))[0]\n",
    "c7 = struct.unpack('!d', 0x3de37a6a05e64649.to_bytes(8, 'big'))[0]\n",
    "\n",
    "P(x) = c1 + x^2 * (c2 + x^2 * (c3 + x^2 * (c4 + x^2 * (c5 + x^2 * (c6 + x^2 * c7)))))\n",
    "\n",
    "# Define error\n",
    "err(x) = abs(f(x) - P(x))\n",
    "\n",
    "# Interval to check\n",
    "a, b = 1.57, 2.45   # example interval\n",
    "\n",
    "# Find maximum error\n",
    "max_error = find_local_maximum(err, a, b)\n",
    "\n",
    "# Convert to ULPs (near x=0, sinc ≈ 1)\n",
    "ulp64 = 2.0^-23\n",
    "ulp_error = max_error[0] / ulp64\n",
    "\n",
    "print(\"Maximum error:\", max_error)\n",
    "print(\"ULP error:\", ulp_error)"
   ]
  },
  {
   "cell_type": "code",
   "execution_count": 37,
   "id": "c92a71d0-5dba-4b9d-9c40-16ae8fc0815b",
   "metadata": {},
   "outputs": [
    {
     "name": "stdout",
     "output_type": "stream",
     "text": [
      "Maximum error: (1.1107781361374691e-12, 2.6054360298302033)\n",
      "ULP error: 9.31788235902786e-6\n"
     ]
    }
   ],
   "source": [
    "# Sinc approximation 2.45 - 2.95\n",
    "import struct\n",
    "\n",
    "f(x) = sin(x)/x\n",
    "\n",
    "D = RealField(53)\n",
    "\n",
    "c1 = D(struct.unpack('!d', 0x3ff0000000000000.to_bytes(8, 'big'))[0])\n",
    "c2 = D(struct.unpack('!d', 0xbfc55554760558e3.to_bytes(8, 'big'))[0])\n",
    "c3 = D(struct.unpack('!d', 0x3f8111058de4ff03.to_bytes(8, 'big'))[0])\n",
    "c4 = D(struct.unpack('!d', 0xbf2a00a34844c1ca.to_bytes(8, 'big'))[0])\n",
    "c5 = D(struct.unpack('!d', 0x3ec71252fcdf8a53.to_bytes(8, 'big'))[0])\n",
    "c6 = D(struct.unpack('!d', 0xbe5a4d6c697efba0.to_bytes(8, 'big'))[0])\n",
    "c7 = D(struct.unpack('!d', 0x3de1cee3a67bcfb4.to_bytes(8, 'big'))[0])\n",
    "\n",
    "P(x) = c1 + x^2 * (c2 + x^2 * (c3 + x^2 * (c4 + x^2 * (c5 + x^2 * (c6 + x^2 * c7)))))\n",
    "\n",
    "# Define error\n",
    "err(x) = abs(f(x) - P(x))\n",
    "\n",
    "# Interval to check\n",
    "a, b = 2.45, 2.95   # example interval\n",
    "\n",
    "# Find maximum error\n",
    "max_error = find_local_maximum(err, a, b)\n",
    "\n",
    "# Convert to ULPs (near x=0, sinc ≈ 1)\n",
    "ulp64 = 2.0^-23\n",
    "ulp_error = max_error[0] / ulp64\n",
    "\n",
    "print(\"Maximum error:\", max_error)\n",
    "print(\"ULP error:\", ulp_error)"
   ]
  },
  {
   "cell_type": "code",
   "execution_count": 38,
   "id": "876d1329-a7d4-4bec-b507-2cbe718830ed",
   "metadata": {},
   "outputs": [
    {
     "name": "stdout",
     "output_type": "stream",
     "text": [
      "-0.0685314999709694\n"
     ]
    }
   ],
   "source": [
    "P(x) = 1 + x^2 * (-0.16666666503769192453354719418712193146347999572754 + x^2 * (8.333332162275294482944865137596934800967574119568e-3 + x^2 * (-1.9841232994419444020731124744827411632286384701729e-4 + x^2 * (2.75566561227184667065429404808618585320800775662065e-6 + x^2 * (-2.5044636620069638584987922161513573815483368889545e-8 + x^2 * (1.6004967791546758341739649455592962162819858917828e-10 + x^2 * (-7.4006627638321043722392127908527396375985146770304e-13 + x^2 * 2.1564878250304773053066570100773910625219177607942e-15)))))))\n",
    "print(P(-3.375));"
   ]
  },
  {
   "cell_type": "code",
   "execution_count": 1,
   "id": "a696c72d-6c2b-4c18-b9de-ad6a902e2710",
   "metadata": {},
   "outputs": [
    {
     "ename": "NameError",
     "evalue": "name 'minimax' is not defined",
     "output_type": "error",
     "traceback": [
      "\u001b[31m---------------------------------------------------------------------------\u001b[39m",
      "\u001b[31mNameError\u001b[39m                                 Traceback (most recent call last)",
      "\u001b[36mCell\u001b[39m\u001b[36m \u001b[39m\u001b[32mIn[1]\u001b[39m\u001b[32m, line 12\u001b[39m\n\u001b[32m      9\u001b[39m degree = Integer(\u001b[32m10\u001b[39m)\n\u001b[32m     11\u001b[39m \u001b[38;5;66;03m# Compute minimax polynomial approximation\u001b[39;00m\n\u001b[32m---> \u001b[39m\u001b[32m12\u001b[39m p = \u001b[43mminimax\u001b[49m(f, x, degree, a, b)\n\u001b[32m     14\u001b[39m \u001b[38;5;28mprint\u001b[39m(\u001b[33m\"\u001b[39m\u001b[33mMinimax polynomial of degree\u001b[39m\u001b[33m\"\u001b[39m, degree, \u001b[33m\"\u001b[39m\u001b[33mon [0.25, 0.9]:\u001b[39m\u001b[33m\"\u001b[39m)\n\u001b[32m     15\u001b[39m \u001b[38;5;28mprint\u001b[39m(p)\n",
      "\u001b[31mNameError\u001b[39m: name 'minimax' is not defined"
     ]
    }
   ],
   "source": [
    "from sage.all import *\n",
    "\n",
    "# Define the variable and function\n",
    "x = var('x')\n",
    "f = sin(x)/x\n",
    "\n",
    "# Define the interval and degree\n",
    "a, b = 0.25, 0.9\n",
    "degree = 10\n",
    "\n",
    "# Compute minimax polynomial approximation\n",
    "p = minimax(f, x, degree, a, b)\n",
    "\n",
    "print(\"Minimax polynomial of degree\", degree, \"on [0.25, 0.9]:\")\n",
    "print(p)\n",
    "\n",
    "# Compute the max error (sup norm) on the interval\n",
    "err = max([abs(f(x_val) - p(x_val)) for x_val in srange(a, b, 0.001)])\n",
    "print(\"Max absolute error on interval:\", err)"
   ]
  },
  {
   "cell_type": "code",
   "execution_count": null,
   "id": "03bcbcf2-d56a-442c-ae87-96f6e7b0c282",
   "metadata": {},
   "outputs": [],
   "source": []
  }
 ],
 "metadata": {
  "kernelspec": {
   "display_name": "SageMath 10.6",
   "language": "sage",
   "name": "sagemath-10.6"
  },
  "language_info": {
   "codemirror_mode": {
    "name": "ipython",
    "version": 3
   },
   "file_extension": ".py",
   "mimetype": "text/x-python",
   "name": "python",
   "nbconvert_exporter": "python",
   "pygments_lexer": "ipython3",
   "version": "3.12.5"
  }
 },
 "nbformat": 4,
 "nbformat_minor": 5
}
