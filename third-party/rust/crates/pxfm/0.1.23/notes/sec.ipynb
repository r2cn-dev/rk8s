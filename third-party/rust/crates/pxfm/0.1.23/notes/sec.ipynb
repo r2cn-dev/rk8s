{
 "cells": [
  {
   "cell_type": "code",
   "execution_count": 1,
   "id": "d1c368c9-c0f8-4873-b4d3-9d90f741dddd",
   "metadata": {},
   "outputs": [
    {
     "name": "stdout",
     "output_type": "stream",
     "text": [
      "0x3fe0000000000000\n",
      "0x3fcaaaaaaaaaaaab\n",
      "0x3fb5b05b05b05b06\n",
      "0x3fa1965965965966\n",
      "0x3f8c834283cd3723\n",
      "0x3f771c9634451939\n",
      "0x3f62bbcea738201f\n"
     ]
    }
   ],
   "source": [
    "from sage.all import *\n",
    "import struct\n",
    "\n",
    "DR = RealField(53)\n",
    "DD = RealField(190)\n",
    "\n",
    "def float_to_hex(f):\n",
    "    packed = struct.pack('>f', float(f))\n",
    "    return '0x' + packed.hex()\n",
    "\n",
    "\n",
    "def double_to_hex(f):\n",
    "    packed = struct.pack('>d', float(f))\n",
    "    return '0x' + packed.hex()\n",
    "\n",
    "print(double_to_hex(DD(1)/DD(2)))\n",
    "print(double_to_hex(DD(5)/DD(24)))\n",
    "print(double_to_hex(DD(61)/DD(720)))\n",
    "print(double_to_hex(DD(277)/DD(8064)))\n",
    "print(double_to_hex(DD(50521)/DD(3628800)))\n",
    "print(double_to_hex(DD('540553')/DD('95800320')))\n",
    "print(double_to_hex(DD('199360981')/DD('87178291200')))"
   ]
  },
  {
   "cell_type": "code",
   "execution_count": 2,
   "id": "70be4e15-defd-4c5e-b915-4c0cd90a952f",
   "metadata": {},
   "outputs": [
    {
     "name": "stdout",
     "output_type": "stream",
     "text": [
      "Order 6: 0.004\n",
      "Order 8: 0.013000000000000005\n",
      "Order 10: 0.03000000000000002\n",
      "Order 12: 0.05300000000000004\n",
      "Order 14: 0.08100000000000006\n"
     ]
    }
   ],
   "source": [
    "# test max cutoff for direct evaluation\n",
    "from mpmath import mp, sec, taylor, mpf\n",
    "\n",
    "mp.dps = 50 \n",
    "true_sec = lambda x: sec(x)\n",
    "approx_sec = lambda x, n: sum(c * mpf(x)**i for i, c in enumerate(taylor(sec, 0, n+1)))\n",
    "\n",
    "def max_x_for_order(n, max_rel_error=2**-68):\n",
    "    x = 0.0\n",
    "    step = 0.001\n",
    "    while True:\n",
    "        x += step\n",
    "        exact = true_sec(x)\n",
    "        approx = approx_sec(x, n)\n",
    "        rel_error = abs((approx - exact) / exact)\n",
    "        if rel_error > max_rel_error:\n",
    "            return x - step\n",
    "\n",
    "print(\"Order 6:\", max_x_for_order(6))\n",
    "print(\"Order 8:\", max_x_for_order(8))\n",
    "print(\"Order 10:\", max_x_for_order(10))\n",
    "print(\"Order 12:\", max_x_for_order(12))\n",
    "print(\"Order 14:\", max_x_for_order(14))"
   ]
  },
  {
   "cell_type": "code",
   "execution_count": 16,
   "id": "c92dbf4e-a129-4e1e-b276-9df0a40588d9",
   "metadata": {},
   "outputs": [
    {
     "name": "stdout",
     "output_type": "stream",
     "text": [
      "0x3bf0000000000000\n",
      "0x3bd0000000000000\n"
     ]
    }
   ],
   "source": [
    "print(double_to_hex(2**-64))\n",
    "print(double_to_hex(2**-66))"
   ]
  },
  {
   "cell_type": "code",
   "execution_count": 26,
   "id": "3284ecf5-455b-4ea0-8f27-800a007a4834",
   "metadata": {},
   "outputs": [
    {
     "name": "stdout",
     "output_type": "stream",
     "text": [
      "50521/3628800*x^10 + 277/8064*x^8 + 61/720*x^6 + 5/24*x^4 + 1/2*x^2 + 1\n",
      "0.08472222222222223*hi^6 + 0.5083333333333333*hi*lo^5 + 0.08472222222222223*lo^6 + (1.2708333333333335*hi^2 + 0.20833333333333334)*lo^4 + 0.20833333333333334*hi^4 + (1.6944444444444446*hi^3 + 0.8333333333333334*hi)*lo^3 + (1.2708333333333335*hi^4 + 1.25*hi^2 + 0.5)*lo^2 + 0.5*hi^2 + (0.5083333333333333*hi^5 + 0.8333333333333334*hi^3 + 1.0*hi)*lo + 1\n"
     ]
    }
   ],
   "source": [
    "x = var('x')\n",
    "f = 1 / cos(x)\n",
    "\n",
    "# Generate Taylor (Maclaurin) series for sec(x) around x=0 up to order 10\n",
    "taylor_series = f.taylor(x, 0, 10)\n",
    "show(taylor_series)\n",
    "\n",
    "hi = var('hi')\n",
    "lo = var('lo')\n",
    "\n",
    "x = hi + lo\n",
    "\n",
    "series = 61/720*x**6 + 5/24*x**4 + 1/2*x**2 + 1\n",
    "expanded_series = series.simplify_full()\n",
    "print(expanded_series)\n"
   ]
  },
  {
   "cell_type": "code",
   "execution_count": 25,
   "id": "5de9f676-b3e7-4ecf-8522-1350b7a81600",
   "metadata": {},
   "outputs": [
    {
     "name": "stdout",
     "output_type": "stream",
     "text": [
      "-1/5040*u_hi^7 + 1/120*u_hi^5 - 1/6*u_hi^3 + u_hi\n",
      "-1/5040*(7*u_hi^6 + 21*u_hi^5*u_lo + 35*u_hi^4*u_lo^2 + 35*u_hi^3*u_lo^3 + 21*u_hi^2*u_lo^4 + 7*u_hi*u_lo^5 + u_lo^6 - 210*u_hi^4 - 420*u_hi^3*u_lo - 420*u_hi^2*u_lo^2 - 210*u_hi*u_lo^3 - 42*u_lo^4 + 2520*u_hi^2 + 2520*u_hi*u_lo + 840*u_lo^2 - 5040)*u_lo\n",
      "sin(y) ≈ \n",
      "  u_hi\n",
      "  + u_hi^3 * (-1/6 + u_hi^2 * (1/120 - u_hi^2 * 1/5040))\n",
      "  + u_lo * (1 + u_hi^2 * (-1/2 + u_hi^2 / 24))\n",
      "Difference from true Taylor series:\n",
      "-(3.96508223080413e-19)*u_hi^7 - 0.0013888888888888885*u_hi^6*u_lo - 0.001388888888888889*u_hi*u_lo^6 - 0.000198412698412698*u_lo^7 + (-0.004166666666666667*u_hi^2 + 0.008333333333333333)*u_lo^5 + (-0.006944444444444444*u_hi^3 + 0.041666666666666664*u_hi)*u_lo^4 + (-0.006944444444444444*u_hi^4 + 0.08333333333333333*u_hi^2 - 0.16666666666666666)*u_lo^3 + (-0.0041666666666666675*u_hi^5 + 0.08333333333333333*u_hi^3 - 0.5*u_hi)*u_lo^2\n"
     ]
    }
   ],
   "source": [
    "# Declare variables\n",
    "y = var('y')\n",
    "\n",
    "# Taylor expand sin(y) around y=0 up to y^7\n",
    "sin_series = sin(y).taylor(y, 0, 7)\n",
    "\n",
    "u_hi, u_lo = var('u_hi u_lo')\n",
    "y = u_hi + u_lo\n",
    "\n",
    "# Substitute y = u_hi + u_lo\n",
    "sin_series_hi_lo = sin_series.substitute(y = u_hi + u_lo)\n",
    "\n",
    "# Expand all terms\n",
    "expanded = sin_series_hi_lo.expand()\n",
    "\n",
    "# Now collect terms similar to the target form manually:\n",
    "# Split into hi-only and lo-containing parts\n",
    "\n",
    "# Extract terms involving only u_hi\n",
    "hi_only = expanded.coefficient(u_lo, 0)\n",
    "print(hi_only)\n",
    "\n",
    "# Extract terms involving u_lo (linear in u_lo only here)\n",
    "lo_term = (expanded - hi_only).factor()\n",
    "\n",
    "print(lo_term)\n",
    "\n",
    "# Now print the terms manually in Horner form\n",
    "print(\"sin(y) ≈ \")\n",
    "print(\"  u_hi\")\n",
    "print(\"  + u_hi^3 * (-1/6 + u_hi^2 * (1/120 - u_hi^2 * 1/5040))\")\n",
    "print(\"  + u_lo * (1 + u_hi^2 * (-1/2 + u_hi^2 / 24))\")\n",
    "\n",
    "# Optional: verify that your manual form equals original\n",
    "manual = (\n",
    "    u_hi\n",
    "    + u_hi**3 * (-1/6 + u_hi**2 * (1/120 - u_hi**2 * (1/5040)))\n",
    "    + u_lo * (1 + u_hi**2 * (-1/2 + u_hi**2 / 24))\n",
    ")\n",
    "\n",
    "print(\"Difference from true Taylor series:\")\n",
    "print((expanded - manual).simplify_full())\n"
   ]
  },
  {
   "cell_type": "code",
   "execution_count": null,
   "id": "01559748-6d65-489f-9080-16a71dcec734",
   "metadata": {},
   "outputs": [],
   "source": []
  },
  {
   "cell_type": "code",
   "execution_count": null,
   "id": "81042114-e07e-4a64-9763-70bacda7d420",
   "metadata": {},
   "outputs": [],
   "source": []
  }
 ],
 "metadata": {
  "kernelspec": {
   "display_name": "Python 3 (ipykernel)",
   "language": "python",
   "name": "python3"
  },
  "language_info": {
   "codemirror_mode": {
    "name": "ipython",
    "version": 3
   },
   "file_extension": ".py",
   "mimetype": "text/x-python",
   "name": "python",
   "nbconvert_exporter": "python",
   "pygments_lexer": "ipython3",
   "version": "3.12.5"
  }
 },
 "nbformat": 4,
 "nbformat_minor": 5
}
