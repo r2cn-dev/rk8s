{
 "cells": [
  {
   "cell_type": "code",
   "execution_count": 1,
   "id": "02a18733-d191-4b33-a1a5-c7a7bd7a44f0",
   "metadata": {},
   "outputs": [
    {
     "ename": "SyntaxError",
     "evalue": "cannot assign to function call here. Maybe you meant '==' instead of '='? (3970416357.py, line 2)",
     "output_type": "error",
     "traceback": [
      "  \u001b[36mCell\u001b[39m\u001b[36m \u001b[39m\u001b[32mIn[1]\u001b[39m\u001b[32m, line 2\u001b[39m\n\u001b[31m    \u001b[39m\u001b[31mf(x) = sin(x)/x\u001b[39m\n    ^\n\u001b[31mSyntaxError\u001b[39m\u001b[31m:\u001b[39m cannot assign to function call here. Maybe you meant '==' instead of '='?\n"
     ]
    }
   ],
   "source": [
    "# Define sinc\n",
    "f(x) = sin(x)/x\n",
    "\n",
    "# Define polynomial approximation\n",
    "# e.g. Taylor series to degree 6\n",
    "P(x) = 1 + x^2 * (-0.16666666654031270233815575920743867754936218261719 + x^2 * (8.333321217660135879490290733428992098197340965271e-3 + x^2 * (-1.98080586529091463680873896890943797188811004161835e-4)))\n",
    "\n",
    "# Define error\n",
    "err(x) = abs(f(x) - P(x))\n",
    "\n",
    "# Interval to check\n",
    "a, b = 0.0, 0.25   # example interval\n",
    "\n",
    "# Find maximum error\n",
    "max_error = find_local_maximum(err, a, b)\n",
    "\n",
    "# Convert to ULPs (near x=0, sinc ≈ 1)\n",
    "ulp64 = 2.0^-53\n",
    "ulp_error = max_error / ulp64\n",
    "\n",
    "print(\"Maximum error:\", max_error)\n",
    "print(\"ULP error:\", ulp_error)"
   ]
  },
  {
   "cell_type": "code",
   "execution_count": null,
   "id": "64bbc549-cf46-462b-9951-176038a1bba0",
   "metadata": {},
   "outputs": [],
   "source": []
  }
 ],
 "metadata": {
  "kernelspec": {
   "display_name": "Python 3 (ipykernel)",
   "language": "python",
   "name": "python3"
  },
  "language_info": {
   "codemirror_mode": {
    "name": "ipython",
    "version": 3
   },
   "file_extension": ".py",
   "mimetype": "text/x-python",
   "name": "python",
   "nbconvert_exporter": "python",
   "pygments_lexer": "ipython3",
   "version": "3.12.5"
  }
 },
 "nbformat": 4,
 "nbformat_minor": 5
}
