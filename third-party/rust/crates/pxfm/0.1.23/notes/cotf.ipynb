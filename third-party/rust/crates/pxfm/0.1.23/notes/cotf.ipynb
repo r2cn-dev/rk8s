{
 "cells": [
  {
   "cell_type": "code",
   "execution_count": 21,
   "id": "882a5dd6-ad4c-4018-9340-f89a20888f2e",
   "metadata": {},
   "outputs": [
    {
     "name": "stdout",
     "output_type": "stream",
     "text": [
      "0xbfd5555555555555\n",
      "0xbf96c16c16c16c17\n",
      "0xbf61566abc011567\n",
      "0xbf2bbd779334ef0b\n",
      "0xbef66a8f2bf70ebe\n"
     ]
    }
   ],
   "source": [
    "from sage.all import *\n",
    "import struct\n",
    "\n",
    "DR = RealField(53)\n",
    "DD = RealField(190)\n",
    "\n",
    "def double_to_hex(f):\n",
    "    packed = struct.pack('>d', float(f))\n",
    "    return '0x' + packed.hex()\n",
    "\n",
    "print(double_to_hex(DD(-1)/DD(3)))\n",
    "print(double_to_hex(DD(-1)/DD(45)))\n",
    "print(double_to_hex(DD(-2)/DD(945)))\n",
    "print(double_to_hex(DD(-1)/DD(4725)))\n",
    "print(double_to_hex(DD(-2)/DD(93555)))"
   ]
  },
  {
   "cell_type": "code",
   "execution_count": null,
   "id": "68400e43-6a6a-43c2-93d3-72c4d833c1ac",
   "metadata": {},
   "outputs": [],
   "source": []
  }
 ],
 "metadata": {
  "kernelspec": {
   "display_name": "Python 3 (ipykernel)",
   "language": "python",
   "name": "python3"
  },
  "language_info": {
   "codemirror_mode": {
    "name": "ipython",
    "version": 3
   },
   "file_extension": ".py",
   "mimetype": "text/x-python",
   "name": "python",
   "nbconvert_exporter": "python",
   "pygments_lexer": "ipython3",
   "version": "3.12.5"
  }
 },
 "nbformat": 4,
 "nbformat_minor": 5
}
