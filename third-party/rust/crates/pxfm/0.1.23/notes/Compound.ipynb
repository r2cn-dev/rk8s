{
 "cells": [
  {
   "cell_type": "code",
   "execution_count": 27,
   "id": "38d0650c-7644-42b4-8b35-1ad821557646",
   "metadata": {},
   "outputs": [
    {
     "name": "stdout",
     "output_type": "stream",
     "text": [
      "LOG 43.16211491037066979311498440337232740\n",
      "5.559917313492231480000000000000000002e18\n"
     ]
    }
   ],
   "source": [
    "from sage.all import *\n",
    "\n",
    "D = RealField(127)\n",
    "\n",
    "x = '10'\n",
    "y = '18'\n",
    "\n",
    "x0 = D(x)\n",
    "y0 = D(y)\n",
    "x0p1 = x0 + D(1)\n",
    "x0p1ln = x0p1.log()\n",
    "\n",
    "x0p1ln_y0 = x0p1ln * y0\n",
    "\n",
    "print(f\"LOG {x0p1ln_y0}\")\n",
    "\n",
    "z = x0p1ln_y0.exp() - D(1)\n",
    "\n",
    "print(z)\n"
   ]
  },
  {
   "cell_type": "code",
   "execution_count": 28,
   "id": "10b712ae-2146-40ef-996f-862dbc4d3a86",
   "metadata": {},
   "outputs": [
    {
     "name": "stdout",
     "output_type": "stream",
     "text": [
      "0x3ff0000000000000, 0x3fe0000000000000, 0x3fc5555555555555, 0x3fa5555555555555, 0x3f81111125f3a235, 0x3f56c16c3fea7746\n"
     ]
    }
   ],
   "source": [
    "import struct\n",
    "\n",
    "# Example array of big floats in SageMath\n",
    "bigfloats = [1,\n",
    "0.5,\n",
    "0.166666666666666657414808128123695496469736099243164,\n",
    "4.1666666666666664353702032030923874117434024810791e-2,\n",
    "8.333333941167623062917790832671016687527298927307e-3,\n",
    "1.38888903862928589014180680294430203502997756004333e-3]\n",
    "\n",
    "def double_to_hex(f):\n",
    "    # Convert float to IEEE 754 double hex representation\n",
    "    packed = struct.pack('>d', float(f))  # big-endian double\n",
    "    return '0x' + packed.hex()\n",
    "\n",
    "hex_array = [double_to_hex(RR(x)) for x in bigfloats]\n",
    "\n",
    "print(\", \".join(hex_array))\n"
   ]
  },
  {
   "cell_type": "code",
   "execution_count": 29,
   "id": "1ef374e7-9c2e-462c-863d-9516fd2549fe",
   "metadata": {},
   "outputs": [
    {
     "name": "stdout",
     "output_type": "stream",
     "text": [
      "0x0000000000000000, 0x3ff0000000000000, 0x3a20e40000000000, 0x3ff0000000000000, 0x3a04820000000000, 0x3fe0000000000000, 0xbc756423c5338a66, 0x3fc5555555555556, 0xbc5560f74db5556c, 0x3fa5555555555556, 0x3c3648eca89bc6ac, 0x3f8111111144fbee, 0xbbd53d924ae90c8c, 0x3f56c16c16ffeecc\n",
      "0x400921fb54442d18\n",
      "0x3ca1a62633145c07\n"
     ]
    }
   ],
   "source": [
    "import struct\n",
    "from sage.all import *\n",
    "\n",
    "R = RealField(52)\n",
    "\n",
    "def double_to_hex(f):\n",
    "    # Converts Python float (f64) to hex string\n",
    "    packed = struct.pack('>d', float(f))\n",
    "    return '0x' + packed.hex()\n",
    "\n",
    "def split_double_double(x):\n",
    "    # Split RR value x into hi + lo (double-double)\n",
    "    x_hi = R(x)  # convert to f64\n",
    "    x_lo = x - DD(x_hi)\n",
    "    return (x_lo,x_hi)\n",
    "\n",
    "DD = RealField(120)\n",
    "\n",
    "# Input RR array (high precision)\n",
    "bigfloats = [\n",
    "'1',\n",
    "'1.00000000000000000000000000010659482981798922020626',\n",
    "'0.50000000000000000000000000003235562306570556233134',\n",
    "'0.16666666666666666661650065088154907094781865583483',\n",
    "'4.1666666666666666656813389760732706689332161864754e-2',\n",
    "'8.333333339235663398545366857448291597622040747153e-3',\n",
    "'1.38888888977721761402414540629642690134205558400704e-3',\n",
    "]\n",
    "\n",
    "# Split first 4 as DD pairs\n",
    "dd_pairs = [split_double_double(DD(x)) for x in bigfloats]\n",
    "\n",
    "# Convert to hex\n",
    "hex_pairs = [(double_to_hex(hi), double_to_hex(lo)) for hi, lo in dd_pairs]\n",
    "\n",
    "# Print as flat list\n",
    "flat_hex = [x for pair in hex_pairs for x in pair]\n",
    "print(\", \".join(flat_hex))\n",
    "\n",
    "d_pi = split_double_double(DD.pi())\n",
    "pi_hi = double_to_hex(d_pi[1])\n",
    "pi_lo = double_to_hex(d_pi[0])\n",
    "print(pi_hi)\n",
    "print(pi_lo)"
   ]
  },
  {
   "cell_type": "code",
   "execution_count": 47,
   "id": "e1149a60-2bf0-46c9-91c0-3407d2ea403b",
   "metadata": {},
   "outputs": [
    {
     "name": "stdout",
     "output_type": "stream",
     "text": [
      "1*x + (-1/2)*x^2 + 1/3*x^3 + (-1/4)*x^4 + 1/5*x^5 + (-1/6)*x^6 + 1/7*x^7 + (-1/8)*x^8 + 1/9*x^9 + Order(x^10)\n",
      "\n",
      "Coefficients:\n",
      "(0x0000000000000000, 0x3ff0000000000000),\n",
      "(0x0000000000000000, 0xbfe0000000000000),\n",
      "(0xbe25555558000000, 0x3fd5555558000000),\n",
      "(0x0000000000000000, 0xbfd0000000000000),\n",
      "(0x3e099999a0000000, 0x3fc9999998000000),\n",
      "(0x3e15555558000000, 0xbfc5555558000000),\n",
      "(0x3e12492490000000, 0x3fc2492490000000),\n",
      "(0x0000000000000000, 0xbfc0000000000000),\n",
      "(0xbe0c71c720000000, 0x3fbc71c720000000),\n",
      "\n",
      "Coefficients double:\n",
      "(0x3ff0000000000000),\n",
      "(0xbfe0000000000000),\n",
      "(0x3fd5555555555556),\n",
      "(0xbfd0000000000000),\n",
      "(0x3fc999999999999a),\n",
      "(0xbfc5555555555556),\n",
      "(0x3fc2492492492492),\n",
      "(0xbfc0000000000000),\n",
      "(0x3fbc71c71c71c71c),\n"
     ]
    }
   ],
   "source": [
    "import struct\n",
    "from sage.all import *\n",
    "\n",
    "terms = 10\n",
    "\n",
    "var('x')\n",
    "f = log(1 + x)\n",
    "t = f.series(x == 0, terms)  # up to x^9 (9 terms)\n",
    "print(t)\n",
    "\n",
    "R = RealField(52)\n",
    "\n",
    "DD = RealField(120)\n",
    "\n",
    "def double_to_hex(f):\n",
    "    # Converts Python float (f64) to hex string\n",
    "    packed = struct.pack('>d', float(f))\n",
    "    return '0x' + packed.hex()\n",
    "\n",
    "def split_double_double(x):\n",
    "    # Split RR value x into hi + lo (double-double)\n",
    "    x_hi = R(x)  # convert to f64\n",
    "    x_lo = x - DD(x_hi)\n",
    "    return (x_lo,x_hi)\n",
    "\n",
    "def vetkamp_split(a):\n",
    "    \"\"\"\n",
    "    Split a double-precision float into two parts using the Dekker/Vetkamp trick.\n",
    "    Returns (hi, lo) such that a = hi + lo and hi contains the leading bits.\n",
    "    \"\"\"\n",
    "    # Use 2^27 + 1 as the constant for f64 splitting (Dekker's method)\n",
    "    C = float(2**27 + 1)\n",
    "    t1 = C * a\n",
    "    t2 = a - t1\n",
    "    r_hi = t1 + t2\n",
    "    r_lo = a - r_hi\n",
    "    return r_lo, r_hi\n",
    "\n",
    "print(\"\\nCoefficients:\")\n",
    "for i in range(1, terms):  # log(1+x) has no constant term\n",
    "    coeff = t.coefficient(x**i)\n",
    "    k = split_double_double(DD(coeff))\n",
    "    hi = double_to_hex(k[1])\n",
    "    lo = double_to_hex(k[0])\n",
    "    print(f\"({lo}, {hi}),\")\n",
    "    # print(f\"x^{i}: {coeff}\")\n",
    "\n",
    "print(\"\\nCoefficients double:\")\n",
    "for i in range(1, terms): \n",
    "    coeff = t.coefficient(x**i)\n",
    "    k = split_double_double(DD(coeff))\n",
    "    hi = double_to_hex(k[1])\n",
    "    print(f\"({hi}),\")\n",
    "    # print(f\"x^{i}: {coeff}\")"
   ]
  },
  {
   "cell_type": "code",
   "execution_count": 55,
   "id": "8c1dbf7c-c181-4184-9a6d-2ba3fac152e6",
   "metadata": {},
   "outputs": [
    {
     "name": "stdout",
     "output_type": "stream",
     "text": [
      "0x0000000000000000, 0x3ff0000000000000, 0x0000000000000000, 0xbfe0000000000000, 0xbc85555555555556, 0x3fd5555555555556, 0x3999c00000000000, 0xbfd0000000000000, 0xbc6999999981f36e, 0x3fc999999999999a, 0x3c7555554743d27d, 0xbfc5555555555556, 0x3c6247f02d51c658, 0x3fc2492492492492, 0x3c26ef9953cc6840, 0xbfc0000000000000, 0xbc60a66163a63ed2, 0x3fbc71c71c71c758, 0x3c69d1ae7ae4abd1, 0xbfb999999999e040, 0x3c67d7eee3debe26, 0x3fb745d173affb86, 0xbc3ef276254f5c00, 0xbfb5555485be87b6, 0x3c51f94d5ec7053e, 0x3fb3b2041e0a9ef8, 0x3c3d1e0180b9b780, 0xbfb333afb6247696\n"
     ]
    }
   ],
   "source": [
    "bigfloats = [\n",
    "'1',\n",
    "'-0.5',\n",
    "'0.333333333333333333333333333333332306170696326807545036811763954705430113012454285126295872032642364501953125',\n",
    "'-0.249999999999999999999999999999682606745164983531416374835062003977904920848374104025424458086490631103515625',\n",
    "'0.200000000000000000000000002387949136540462961767856959621631279485666488060502388179884292185306549072265625',\n",
    "'-0.166666666666666666666667393986043856317874326241244099980138147656764935344853029164369218051433563232421875',\n",
    "'0.1428571428571428571408163599106053233656149391100956916031132384707624805031400683219544589519500732421875',\n",
    "'-0.12499999999999999937832028113316696072215483698725704640401028516598358475420127433608286082744598388671875',\n",
    "'0.11111111111111193038972057718902279427957977404456151551405321587537126937217379918365622870624065399169921875',\n",
    "'-0.1000000000002509880241711464546716390478971261945224395226512311622528439425394708450767211616039276123046875',\n",
    "'9.0909090751649750743304935100388324903899779563569833378440453413964206230701847744057886302471160888671875e-2',\n",
    "'-8.3333285000235375895682579496227015767268553492735970464138327284953078333273879252374172210693359375e-2',\n",
    "'7.69350598662831325463995536139570999801209091083709001164372138083062668822975638249772600829601287841796875e-2',\n",
    "'-7.5007421463363447931295368457235624520969053746502721052817207365859264456275923294015228748321533203125e-2',\n",
    "]\n",
    "\n",
    "# Split first 4 as DD pairs\n",
    "dd_pairs = [split_double_double(DD(x)) for x in bigfloats]\n",
    "\n",
    "# Convert to hex\n",
    "hex_pairs = [(double_to_hex(hi), double_to_hex(lo)) for hi, lo in dd_pairs]\n",
    "\n",
    "# Print as flat list\n",
    "flat_hex = [x for pair in hex_pairs for x in pair]\n",
    "print(\", \".join(flat_hex))"
   ]
  },
  {
   "cell_type": "code",
   "execution_count": 57,
   "id": "27e53241-55b6-4b7f-9892-56bd8b29ac3e",
   "metadata": {},
   "outputs": [
    {
     "name": "stdout",
     "output_type": "stream",
     "text": [
      "x = 0.001960754394531250000000000000000\n",
      "Approximation: 0.001958834624688574780016617412059\n",
      "True log(1 + x): 0.001958834624688574780016617412059\n",
      "Absolute error (ULPs): -0.0000000000000000000000000000000\n",
      "Relative error (ULPs): -0.0000000000000000000000000000000\n"
     ]
    }
   ],
   "source": [
    "R = RealField(106)  # ~106 bits = double-double\n",
    "coeffs = [R(s) for s in bigfloats]\n",
    "\n",
    "# Polynomial evaluation function (Horner's method)\n",
    "def dd_polyval(x, coeffs):\n",
    "    acc = R(0)\n",
    "    for c in reversed(coeffs):\n",
    "        acc = acc * x + c\n",
    "    return acc * x\n",
    "\n",
    "# Interval and test point\n",
    "x = R('0.00196075439453125')  # small x near 0 for log(1 + x)\n",
    "true_val = log(1 + x)\n",
    "approx = dd_polyval(x, coeffs)\n",
    "\n",
    "# Compute error\n",
    "abs_err = abs(approx - true_val)\n",
    "rel_err = abs_err / abs(true_val)\n",
    "\n",
    "# Convert to ULPs of 53-bit double precision\n",
    "ulp = 2^(-53)\n",
    "abs_ulp = abs_err / ulp\n",
    "rel_ulp = rel_err / ulp\n",
    "\n",
    "# Display\n",
    "print(\"x =\", x)\n",
    "print(\"Approximation:\", approx)\n",
    "print(\"True log(1 + x):\", true_val)\n",
    "print(\"Absolute error (ULPs):\", abs_ulp)\n",
    "print(\"Relative error (ULPs):\", rel_ulp)\n"
   ]
  },
  {
   "cell_type": "code",
   "execution_count": null,
   "id": "3780b1ab-9a35-430f-bafa-f50029ccf60e",
   "metadata": {},
   "outputs": [],
   "source": []
  }
 ],
 "metadata": {
  "kernelspec": {
   "display_name": "Python 3 (ipykernel)",
   "language": "python",
   "name": "python3"
  },
  "language_info": {
   "codemirror_mode": {
    "name": "ipython",
    "version": 3
   },
   "file_extension": ".py",
   "mimetype": "text/x-python",
   "name": "python",
   "nbconvert_exporter": "python",
   "pygments_lexer": "ipython3",
   "version": "3.12.5"
  }
 },
 "nbformat": 4,
 "nbformat_minor": 5
}
